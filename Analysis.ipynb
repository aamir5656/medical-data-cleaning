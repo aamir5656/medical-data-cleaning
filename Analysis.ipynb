{
 "cells": [
  {
   "cell_type": "code",
   "execution_count": 1,
   "id": "be849aed-e3a7-4356-a30c-b2b5d65c1163",
   "metadata": {},
   "outputs": [],
   "source": [
    "import pandas as pd "
   ]
  },
  {
   "cell_type": "code",
   "execution_count": null,
   "id": "026e9187-6136-4526-90b7-ac6f79e95b21",
   "metadata": {},
   "outputs": [],
   "source": [
    "dataset = pd.read_csv(\"realworld_medical_dirty.csv\")"
   ]
  },
  {
   "cell_type": "code",
   "execution_count": 3,
   "id": "fe06c209-a8c5-4411-a3e6-dd0b0c9c5de0",
   "metadata": {},
   "outputs": [
    {
     "data": {
      "text/html": [
       "<div>\n",
       "<style scoped>\n",
       "    .dataframe tbody tr th:only-of-type {\n",
       "        vertical-align: middle;\n",
       "    }\n",
       "\n",
       "    .dataframe tbody tr th {\n",
       "        vertical-align: top;\n",
       "    }\n",
       "\n",
       "    .dataframe thead th {\n",
       "        text-align: right;\n",
       "    }\n",
       "</style>\n",
       "<table border=\"1\" class=\"dataframe\">\n",
       "  <thead>\n",
       "    <tr style=\"text-align: right;\">\n",
       "      <th></th>\n",
       "      <th>Patient_ID</th>\n",
       "      <th>Age</th>\n",
       "      <th>Gender</th>\n",
       "      <th>Blood_Pressure</th>\n",
       "      <th>Cholesterol</th>\n",
       "      <th>BMI</th>\n",
       "      <th>Smoker</th>\n",
       "      <th>Diagnosis</th>\n",
       "      <th>Admission_Date</th>\n",
       "      <th>Notes</th>\n",
       "    </tr>\n",
       "  </thead>\n",
       "  <tbody>\n",
       "    <tr>\n",
       "      <th>0</th>\n",
       "      <td>P1000</td>\n",
       "      <td>55.0</td>\n",
       "      <td>FEMALE</td>\n",
       "      <td>120.0</td>\n",
       "      <td>NaN</td>\n",
       "      <td>35.4</td>\n",
       "      <td>Yes</td>\n",
       "      <td>Heart Disease</td>\n",
       "      <td>2023-12-27</td>\n",
       "      <td>NaN</td>\n",
       "    </tr>\n",
       "    <tr>\n",
       "      <th>1</th>\n",
       "      <td>P1001</td>\n",
       "      <td>65.0</td>\n",
       "      <td>Male</td>\n",
       "      <td>150.0</td>\n",
       "      <td>180.0</td>\n",
       "      <td>27.8</td>\n",
       "      <td>NaN</td>\n",
       "      <td>NaN</td>\n",
       "      <td>2023-01-01</td>\n",
       "      <td>NaN</td>\n",
       "    </tr>\n",
       "    <tr>\n",
       "      <th>2</th>\n",
       "      <td>P1002</td>\n",
       "      <td>45.0</td>\n",
       "      <td>Male</td>\n",
       "      <td>120.0</td>\n",
       "      <td>220.0</td>\n",
       "      <td>22.5</td>\n",
       "      <td>No</td>\n",
       "      <td>NaN</td>\n",
       "      <td>2023-12-14</td>\n",
       "      <td>NaN</td>\n",
       "    </tr>\n",
       "    <tr>\n",
       "      <th>3</th>\n",
       "      <td>P1003</td>\n",
       "      <td>65.0</td>\n",
       "      <td>Male</td>\n",
       "      <td>NaN</td>\n",
       "      <td>180.0</td>\n",
       "      <td>35.4</td>\n",
       "      <td>No</td>\n",
       "      <td>NaN</td>\n",
       "      <td>2023-07-09</td>\n",
       "      <td>NaN</td>\n",
       "    </tr>\n",
       "    <tr>\n",
       "      <th>4</th>\n",
       "      <td>P1004</td>\n",
       "      <td>65.0</td>\n",
       "      <td>Male</td>\n",
       "      <td>120.0</td>\n",
       "      <td>300.0</td>\n",
       "      <td>40.1</td>\n",
       "      <td>NaN</td>\n",
       "      <td>NaN</td>\n",
       "      <td>2023-07-10</td>\n",
       "      <td>Follow-up required</td>\n",
       "    </tr>\n",
       "  </tbody>\n",
       "</table>\n",
       "</div>"
      ],
      "text/plain": [
       "  Patient_ID   Age  Gender  Blood_Pressure  Cholesterol   BMI Smoker  \\\n",
       "0      P1000  55.0  FEMALE           120.0          NaN  35.4    Yes   \n",
       "1      P1001  65.0    Male           150.0        180.0  27.8    NaN   \n",
       "2      P1002  45.0    Male           120.0        220.0  22.5     No   \n",
       "3      P1003  65.0    Male             NaN        180.0  35.4     No   \n",
       "4      P1004  65.0    Male           120.0        300.0  40.1    NaN   \n",
       "\n",
       "       Diagnosis Admission_Date               Notes  \n",
       "0  Heart Disease     2023-12-27                 NaN  \n",
       "1            NaN     2023-01-01                 NaN  \n",
       "2            NaN     2023-12-14                 NaN  \n",
       "3            NaN     2023-07-09                 NaN  \n",
       "4            NaN     2023-07-10  Follow-up required  "
      ]
     },
     "execution_count": 3,
     "metadata": {},
     "output_type": "execute_result"
    }
   ],
   "source": [
    "dataset.head()"
   ]
  },
  {
   "cell_type": "code",
   "execution_count": 4,
   "id": "a3bd4056-587c-4fcc-967f-7bee120ef075",
   "metadata": {},
   "outputs": [
    {
     "data": {
      "text/plain": [
       "Patient_ID         0\n",
       "Age               17\n",
       "Gender            15\n",
       "Blood_Pressure    14\n",
       "Cholesterol       20\n",
       "BMI               20\n",
       "Smoker            20\n",
       "Diagnosis         48\n",
       "Admission_Date     0\n",
       "Notes             43\n",
       "dtype: int64"
      ]
     },
     "execution_count": 4,
     "metadata": {},
     "output_type": "execute_result"
    }
   ],
   "source": [
    "# Checking for missing (null) values\n",
    "dataset.isnull().sum()"
   ]
  },
  {
   "cell_type": "code",
   "execution_count": 5,
   "id": "15aca55e-8b03-4c0c-8f6a-e9d71f654145",
   "metadata": {},
   "outputs": [
    {
     "name": "stdout",
     "output_type": "stream",
     "text": [
      "<class 'pandas.core.frame.DataFrame'>\n",
      "RangeIndex: 100 entries, 0 to 99\n",
      "Data columns (total 10 columns):\n",
      " #   Column          Non-Null Count  Dtype  \n",
      "---  ------          --------------  -----  \n",
      " 0   Patient_ID      100 non-null    object \n",
      " 1   Age             83 non-null     float64\n",
      " 2   Gender          85 non-null     object \n",
      " 3   Blood_Pressure  86 non-null     float64\n",
      " 4   Cholesterol     80 non-null     float64\n",
      " 5   BMI             80 non-null     float64\n",
      " 6   Smoker          80 non-null     object \n",
      " 7   Diagnosis       52 non-null     object \n",
      " 8   Admission_Date  100 non-null    object \n",
      " 9   Notes           57 non-null     object \n",
      "dtypes: float64(4), object(6)\n",
      "memory usage: 7.9+ KB\n"
     ]
    }
   ],
   "source": [
    "# Checking data types\n",
    "dataset.info()"
   ]
  },
  {
   "cell_type": "code",
   "execution_count": 6,
   "id": "1231a066-01f2-4053-8847-4e946ba98929",
   "metadata": {},
   "outputs": [],
   "source": [
    "# Remove duplicate values\n",
    "dataset.drop_duplicates(inplace=True)"
   ]
  },
  {
   "cell_type": "code",
   "execution_count": 7,
   "id": "9892071e-0ca2-4609-a331-63a1eb421f42",
   "metadata": {},
   "outputs": [],
   "source": [
    "# Fill missing values with median for selected columns\n",
    "med_col = [\"Age\", \"Blood_Pressure\", \"Cholesterol\", \"BMI\"]\n",
    "for i in med_col:\n",
    "    med = dataset[i].median()\n",
    "    dataset[i] = dataset[i].fillna(med)"
   ]
  },
  {
   "cell_type": "code",
   "execution_count": 8,
   "id": "d9ea591a-8694-4408-b008-41284339c190",
   "metadata": {},
   "outputs": [],
   "source": [
    "# Convert 'Admission_Date' to datetime format\n",
    "dataset['Admission_Date'] = pd.to_datetime(dataset['Admission_Date'])"
   ]
  },
  {
   "cell_type": "code",
   "execution_count": 9,
   "id": "0da24c4a-923b-4307-b710-a68537898d0d",
   "metadata": {},
   "outputs": [],
   "source": [
    "# Convert text to title case\n",
    "dataset['Gender'] = dataset['Gender'].str.title()"
   ]
  },
  {
   "cell_type": "code",
   "execution_count": 10,
   "id": "100e7877-8b4b-42e1-9261-07a9ff35ff0e",
   "metadata": {},
   "outputs": [],
   "source": [
    "# Fill missing values in 'Smoker' with 'Yes'\n",
    "dataset['Smoker'] = dataset['Smoker'].fillna(\"Yes\")"
   ]
  },
  {
   "cell_type": "code",
   "execution_count": 11,
   "id": "aacbf766-7fb0-4cb4-b88f-54862fd1346a",
   "metadata": {},
   "outputs": [],
   "source": [
    "# Fill missing values in 'Gender' with mode\n",
    "dataset['Gender'] = dataset['Gender'].fillna(dataset[\"Gender\"].mode()[0])"
   ]
  },
  {
   "cell_type": "code",
   "execution_count": 12,
   "id": "e9b6ed10-cd69-47c4-a7ce-6e9c5a57d297",
   "metadata": {},
   "outputs": [],
   "source": [
    "# Fill missing values in 'Diagnosis' with 'Unknown'\n",
    "dataset['Diagnosis'] = dataset['Diagnosis'].fillna(\"Unknown\")\n",
    "\n",
    "# Remove unnecessary column\n",
    "dataset.drop(['Patient_ID','Notes'], axis=1, inplace=True)"
   ]
  },
  {
   "cell_type": "code",
   "execution_count": 13,
   "id": "250299e9-2525-42b6-9925-9b734ea0cc17",
   "metadata": {},
   "outputs": [
    {
     "name": "stdout",
     "output_type": "stream",
     "text": [
      " Column: Age => Outliers: 0\n",
      " Column: Blood_Pressure => Outliers: 0\n",
      " Column: Cholesterol => Outliers: 0\n",
      " Column: BMI => Outliers: 0\n"
     ]
    }
   ],
   "source": [
    "# Check outliers for better perdiction\n",
    "numeric_cols = dataset.select_dtypes(include=['int64', 'float64']).columns\n",
    "for col in numeric_cols:\n",
    "    Q1 = dataset[col].quantile(0.25)\n",
    "    Q3 = dataset[col].quantile(0.75)\n",
    "    IQR = Q3 - Q1\n",
    "    lower = Q1 - 1.5 * IQR\n",
    "    upper = Q3 + 1.5 * IQR\n",
    "    outliers = dataset[(dataset[col] < lower) | (dataset[col] > upper)]\n",
    "    print(f\" Column: {col} => Outliers: {len(outliers)}\")"
   ]
  },
  {
   "cell_type": "code",
   "execution_count": 14,
   "id": "de5bb277-ef2e-4849-822f-e505376b3f26",
   "metadata": {},
   "outputs": [],
   "source": [
    "# Create Age_Group column\n",
    "dataset['Age_Group'] = pd.cut(dataset['Age'], bins=[0, 18, 35, 60, 100], labels=[\"Child\", \"Young\", \"Adult\", \"Old\"])"
   ]
  },
  {
   "cell_type": "code",
   "execution_count": 15,
   "id": "55e39207-2700-4b4e-89ae-c58cc2048cb6",
   "metadata": {},
   "outputs": [
    {
     "data": {
      "text/plain": [
       "Age               0\n",
       "Gender            0\n",
       "Blood_Pressure    0\n",
       "Cholesterol       0\n",
       "BMI               0\n",
       "Smoker            0\n",
       "Diagnosis         0\n",
       "Admission_Date    0\n",
       "Age_Group         0\n",
       "dtype: int64"
      ]
     },
     "execution_count": 15,
     "metadata": {},
     "output_type": "execute_result"
    }
   ],
   "source": [
    "dataset.isnull().sum()"
   ]
  },
  {
   "cell_type": "code",
   "execution_count": 16,
   "id": "f95ebdf0-d41d-44f7-8fc2-c580a3e2b9ec",
   "metadata": {},
   "outputs": [
    {
     "data": {
      "text/html": [
       "<div>\n",
       "<style scoped>\n",
       "    .dataframe tbody tr th:only-of-type {\n",
       "        vertical-align: middle;\n",
       "    }\n",
       "\n",
       "    .dataframe tbody tr th {\n",
       "        vertical-align: top;\n",
       "    }\n",
       "\n",
       "    .dataframe thead th {\n",
       "        text-align: right;\n",
       "    }\n",
       "</style>\n",
       "<table border=\"1\" class=\"dataframe\">\n",
       "  <thead>\n",
       "    <tr style=\"text-align: right;\">\n",
       "      <th></th>\n",
       "      <th>Age</th>\n",
       "      <th>Gender</th>\n",
       "      <th>Blood_Pressure</th>\n",
       "      <th>Cholesterol</th>\n",
       "      <th>BMI</th>\n",
       "      <th>Smoker</th>\n",
       "      <th>Diagnosis</th>\n",
       "      <th>Admission_Date</th>\n",
       "      <th>Age_Group</th>\n",
       "    </tr>\n",
       "  </thead>\n",
       "  <tbody>\n",
       "    <tr>\n",
       "      <th>97</th>\n",
       "      <td>65.0</td>\n",
       "      <td>Female</td>\n",
       "      <td>150.0</td>\n",
       "      <td>200.0</td>\n",
       "      <td>27.8</td>\n",
       "      <td>N</td>\n",
       "      <td>Unknown</td>\n",
       "      <td>2023-05-13</td>\n",
       "      <td>Old</td>\n",
       "    </tr>\n",
       "    <tr>\n",
       "      <th>98</th>\n",
       "      <td>25.0</td>\n",
       "      <td>Male</td>\n",
       "      <td>140.0</td>\n",
       "      <td>180.0</td>\n",
       "      <td>40.1</td>\n",
       "      <td>Yes</td>\n",
       "      <td>Diabetes</td>\n",
       "      <td>2023-12-24</td>\n",
       "      <td>Young</td>\n",
       "    </tr>\n",
       "    <tr>\n",
       "      <th>99</th>\n",
       "      <td>65.0</td>\n",
       "      <td>Male</td>\n",
       "      <td>140.0</td>\n",
       "      <td>300.0</td>\n",
       "      <td>35.4</td>\n",
       "      <td>N</td>\n",
       "      <td>Unknown</td>\n",
       "      <td>2023-09-16</td>\n",
       "      <td>Old</td>\n",
       "    </tr>\n",
       "  </tbody>\n",
       "</table>\n",
       "</div>"
      ],
      "text/plain": [
       "     Age  Gender  Blood_Pressure  Cholesterol   BMI Smoker Diagnosis  \\\n",
       "97  65.0  Female           150.0        200.0  27.8      N   Unknown   \n",
       "98  25.0    Male           140.0        180.0  40.1    Yes  Diabetes   \n",
       "99  65.0    Male           140.0        300.0  35.4      N   Unknown   \n",
       "\n",
       "   Admission_Date Age_Group  \n",
       "97     2023-05-13       Old  \n",
       "98     2023-12-24     Young  \n",
       "99     2023-09-16       Old  "
      ]
     },
     "execution_count": 16,
     "metadata": {},
     "output_type": "execute_result"
    }
   ],
   "source": [
    "dataset.tail(3)"
   ]
  },
  {
   "cell_type": "code",
   "execution_count": 17,
   "id": "d316c160-9a85-4920-9a1c-f89db88db160",
   "metadata": {},
   "outputs": [],
   "source": [
    "dataset['Smoker'] = dataset['Smoker'].replace({'Y':\"Yes\",'N':\"No\"})"
   ]
  },
  {
   "cell_type": "code",
   "execution_count": 18,
   "id": "86070bf9-bd52-4f82-befc-dca9d3843bed",
   "metadata": {},
   "outputs": [
    {
     "data": {
      "text/html": [
       "<div>\n",
       "<style scoped>\n",
       "    .dataframe tbody tr th:only-of-type {\n",
       "        vertical-align: middle;\n",
       "    }\n",
       "\n",
       "    .dataframe tbody tr th {\n",
       "        vertical-align: top;\n",
       "    }\n",
       "\n",
       "    .dataframe thead th {\n",
       "        text-align: right;\n",
       "    }\n",
       "</style>\n",
       "<table border=\"1\" class=\"dataframe\">\n",
       "  <thead>\n",
       "    <tr style=\"text-align: right;\">\n",
       "      <th></th>\n",
       "      <th>Age</th>\n",
       "      <th>Gender</th>\n",
       "      <th>Blood_Pressure</th>\n",
       "      <th>Cholesterol</th>\n",
       "      <th>BMI</th>\n",
       "      <th>Smoker</th>\n",
       "      <th>Diagnosis</th>\n",
       "      <th>Admission_Date</th>\n",
       "      <th>Age_Group</th>\n",
       "    </tr>\n",
       "  </thead>\n",
       "  <tbody>\n",
       "    <tr>\n",
       "      <th>97</th>\n",
       "      <td>65.0</td>\n",
       "      <td>Female</td>\n",
       "      <td>150.0</td>\n",
       "      <td>200.0</td>\n",
       "      <td>27.8</td>\n",
       "      <td>No</td>\n",
       "      <td>Unknown</td>\n",
       "      <td>2023-05-13</td>\n",
       "      <td>Old</td>\n",
       "    </tr>\n",
       "    <tr>\n",
       "      <th>98</th>\n",
       "      <td>25.0</td>\n",
       "      <td>Male</td>\n",
       "      <td>140.0</td>\n",
       "      <td>180.0</td>\n",
       "      <td>40.1</td>\n",
       "      <td>Yes</td>\n",
       "      <td>Diabetes</td>\n",
       "      <td>2023-12-24</td>\n",
       "      <td>Young</td>\n",
       "    </tr>\n",
       "    <tr>\n",
       "      <th>99</th>\n",
       "      <td>65.0</td>\n",
       "      <td>Male</td>\n",
       "      <td>140.0</td>\n",
       "      <td>300.0</td>\n",
       "      <td>35.4</td>\n",
       "      <td>No</td>\n",
       "      <td>Unknown</td>\n",
       "      <td>2023-09-16</td>\n",
       "      <td>Old</td>\n",
       "    </tr>\n",
       "  </tbody>\n",
       "</table>\n",
       "</div>"
      ],
      "text/plain": [
       "     Age  Gender  Blood_Pressure  Cholesterol   BMI Smoker Diagnosis  \\\n",
       "97  65.0  Female           150.0        200.0  27.8     No   Unknown   \n",
       "98  25.0    Male           140.0        180.0  40.1    Yes  Diabetes   \n",
       "99  65.0    Male           140.0        300.0  35.4     No   Unknown   \n",
       "\n",
       "   Admission_Date Age_Group  \n",
       "97     2023-05-13       Old  \n",
       "98     2023-12-24     Young  \n",
       "99     2023-09-16       Old  "
      ]
     },
     "execution_count": 18,
     "metadata": {},
     "output_type": "execute_result"
    }
   ],
   "source": [
    "dataset.tail(3)"
   ]
  },
  {
   "cell_type": "code",
   "execution_count": null,
   "id": "8f4c8cd4-ccc6-4659-ab5a-4cfc6f036c2a",
   "metadata": {},
   "outputs": [],
   "source": []
  }
 ],
 "metadata": {
  "kernelspec": {
   "display_name": "Python 3 (ipykernel)",
   "language": "python",
   "name": "python3"
  },
  "language_info": {
   "codemirror_mode": {
    "name": "ipython",
    "version": 3
   },
   "file_extension": ".py",
   "mimetype": "text/x-python",
   "name": "python",
   "nbconvert_exporter": "python",
   "pygments_lexer": "ipython3",
   "version": "3.10.18"
  }
 },
 "nbformat": 4,
 "nbformat_minor": 5
}
